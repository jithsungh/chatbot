{
 "cells": [
  {
   "cell_type": "code",
   "execution_count": 3,
   "id": "fe6b6ec0",
   "metadata": {},
   "outputs": [
    {
     "name": "stdout",
     "output_type": "stream",
     "text": [
      "Note: you may need to restart the kernel to use updated packages.\n"
     ]
    },
    {
     "name": "stderr",
     "output_type": "stream",
     "text": [
      "ERROR: Could not find a version that satisfies the requirement upgrade-BrokenPipeError (from versions: none)\n",
      "\n",
      "[notice] A new release of pip is available: 25.0.1 -> 25.2\n",
      "[notice] To update, run: python.exe -m pip install --upgrade pip\n",
      "ERROR: No matching distribution found for upgrade-BrokenPipeError\n"
     ]
    }
   ],
   "source": [
    "pip install upgrade-BrokenPipeError"
   ]
  },
  {
   "cell_type": "code",
   "execution_count": 2,
   "id": "f5aaa856",
   "metadata": {},
   "outputs": [
    {
     "name": "stdout",
     "output_type": "stream",
     "text": [
      "Chunk 1:\n",
      "This is a sample text that will be split into smaller chunks. The RecursiveCharacterTextSplitter will ensure that the chunks are of manageable size and overlap appropriately to maintain context. This is particularly useful for embedding large documents into vector databases like ChromaDB.\n",
      "\n"
     ]
    }
   ],
   "source": [
    "# split text using RecursiveCharacterTextSplitter for embedding into chromadb\n",
    "from langchain.text_splitter import RecursiveCharacterTextSplitter\n",
    "\n",
    "def split_text(text, chunk_size=1000, chunk_overlap=200):\n",
    "    text_splitter = RecursiveCharacterTextSplitter(\n",
    "        chunk_size=chunk_size,\n",
    "        chunk_overlap=chunk_overlap,\n",
    "        length_function=len,\n",
    "    )\n",
    "    texts = text_splitter.split_text(text)\n",
    "    return texts\n",
    "\n",
    "# Example usage\n",
    "if __name__ == \"__main__\":\n",
    "    sample_text = (\n",
    "        \"This is a sample text that will be split into smaller chunks. The RecursiveCharacterTextSplitter will ensure that the chunks are of manageable size and overlap appropriately to maintain context. This is particularly useful for embedding large documents into vector databases like ChromaDB.\"\n",
    "    )\n",
    "    chunks = split_text(sample_text)\n",
    "    for i, chunk in enumerate(chunks):\n",
    "        print(f\"Chunk {i+1}:\\n{chunk}\\n\")\n",
    "\n",
    "\n"
   ]
  }
 ],
 "metadata": {
  "kernelspec": {
   "display_name": "Python 3",
   "language": "python",
   "name": "python3"
  },
  "language_info": {
   "codemirror_mode": {
    "name": "ipython",
    "version": 3
   },
   "file_extension": ".py",
   "mimetype": "text/x-python",
   "name": "python",
   "nbconvert_exporter": "python",
   "pygments_lexer": "ipython3",
   "version": "3.12.5"
  }
 },
 "nbformat": 4,
 "nbformat_minor": 5
}
